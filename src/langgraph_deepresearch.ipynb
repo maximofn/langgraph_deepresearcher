{
 "cells": [
  {
   "cell_type": "code",
   "execution_count": 1,
   "id": "a71fa2cc",
   "metadata": {},
   "outputs": [],
   "source": [
    "%load_ext autoreload\n",
    "%autoreload 2"
   ]
  },
  {
   "cell_type": "code",
   "execution_count": 2,
   "id": "fafe4993",
   "metadata": {},
   "outputs": [],
   "source": [
    "from langgraph.checkpoint.memory import InMemorySaver\n",
    "from research_agent_scope import deep_researcher_graph_builder\n",
    "\n",
    "from message_utils.message_utils import format_messages\n",
    "from langchain_core.messages import HumanMessage\n",
    "\n",
    "from debug import PRINT_SCOPE_GRAPH, SAVE_SCOPE_GRAPH"
   ]
  },
  {
   "cell_type": "code",
   "execution_count": 3,
   "id": "e9110b39",
   "metadata": {},
   "outputs": [],
   "source": [
    "# Create checkpointer and compile the scope graph\n",
    "checkpointer = InMemorySaver()\n",
    "scope_graph = deep_researcher_graph_builder.compile(checkpointer=checkpointer)\n",
    "if PRINT_SCOPE_GRAPH: print(scope_graph.get_graph(xray=True).draw_ascii())\n",
    "if SAVE_SCOPE_GRAPH: scope_graph.get_graph(xray=True).draw_mermaid_png(output_file_path=\"scope_graph_xray.png\")"
   ]
  },
  {
   "cell_type": "code",
   "execution_count": 4,
   "id": "81545dad",
   "metadata": {},
   "outputs": [
    {
     "data": {
      "text/html": [
       "<pre style=\"white-space:pre;overflow-x:auto;line-height:normal;font-family:Menlo,'DejaVu Sans Mono',consolas,'Courier New',monospace\"><span style=\"color: #000080; text-decoration-color: #000080\">╭─────────────────────────────────────────────────── 🧑 Human ────────────────────────────────────────────────────╮</span>\n",
       "<span style=\"color: #000080; text-decoration-color: #000080\">│</span> Quiero investigar las mejores cafeterías de Madrid.                                                             <span style=\"color: #000080; text-decoration-color: #000080\">│</span>\n",
       "<span style=\"color: #000080; text-decoration-color: #000080\">╰─────────────────────────────────────────────────────────────────────────────────────────────────────────────────╯</span>\n",
       "</pre>\n"
      ],
      "text/plain": [
       "\u001b[34m╭─\u001b[0m\u001b[34m──────────────────────────────────────────────────\u001b[0m\u001b[34m 🧑 Human \u001b[0m\u001b[34m───────────────────────────────────────────────────\u001b[0m\u001b[34m─╮\u001b[0m\n",
       "\u001b[34m│\u001b[0m Quiero investigar las mejores cafeterías de Madrid.                                                             \u001b[34m│\u001b[0m\n",
       "\u001b[34m╰─────────────────────────────────────────────────────────────────────────────────────────────────────────────────╯\u001b[0m\n"
      ]
     },
     "metadata": {},
     "output_type": "display_data"
    },
    {
     "data": {
      "text/html": [
       "<pre style=\"white-space:pre;overflow-x:auto;line-height:normal;font-family:Menlo,'DejaVu Sans Mono',consolas,'Courier New',monospace\"><span style=\"color: #c0c0c0; text-decoration-color: #c0c0c0\">╭───────────────────────────────────────────────────── 📝 AI ─────────────────────────────────────────────────────╮</span>\n",
       "<span style=\"color: #c0c0c0; text-decoration-color: #c0c0c0\">│</span> ¿Podrías especificar qué criterios te interesan para considerar una cafetería como 'mejor'? Por ejemplo:        <span style=\"color: #c0c0c0; text-decoration-color: #c0c0c0\">│</span>\n",
       "<span style=\"color: #c0c0c0; text-decoration-color: #c0c0c0\">│</span> calidad del café, ambiente, ubicación, opciones veganas, precio, etc. ¿O prefieres una selección general?       <span style=\"color: #c0c0c0; text-decoration-color: #c0c0c0\">│</span>\n",
       "<span style=\"color: #c0c0c0; text-decoration-color: #c0c0c0\">╰─────────────────────────────────────────────────────────────────────────────────────────────────────────────────╯</span>\n",
       "</pre>\n"
      ],
      "text/plain": [
       "\u001b[37m╭─\u001b[0m\u001b[37m────────────────────────────────────────────────────\u001b[0m\u001b[37m 📝 AI \u001b[0m\u001b[37m────────────────────────────────────────────────────\u001b[0m\u001b[37m─╮\u001b[0m\n",
       "\u001b[37m│\u001b[0m ¿Podrías especificar qué criterios te interesan para considerar una cafetería como 'mejor'? Por ejemplo:        \u001b[37m│\u001b[0m\n",
       "\u001b[37m│\u001b[0m calidad del café, ambiente, ubicación, opciones veganas, precio, etc. ¿O prefieres una selección general?       \u001b[37m│\u001b[0m\n",
       "\u001b[37m╰─────────────────────────────────────────────────────────────────────────────────────────────────────────────────╯\u001b[0m\n"
      ]
     },
     "metadata": {},
     "output_type": "display_data"
    }
   ],
   "source": [
    "thread = {\"configurable\": {\"thread_id\": \"1\"}}\n",
    "result = scope_graph.invoke({\"messages\": [HumanMessage(content=\"Quiero investigar las mejores cafeterías de Madrid.\")]}, config=thread)\n",
    "format_messages(result['messages'])"
   ]
  },
  {
   "cell_type": "code",
   "execution_count": 5,
   "id": "4614ae8a",
   "metadata": {},
   "outputs": [
    {
     "data": {
      "text/html": [
       "<pre style=\"white-space:pre;overflow-x:auto;line-height:normal;font-family:Menlo,'DejaVu Sans Mono',consolas,'Courier New',monospace\"><span style=\"color: #000080; text-decoration-color: #000080\">╭─────────────────────────────────────────────────── 🧑 Human ────────────────────────────────────────────────────╮</span>\n",
       "<span style=\"color: #000080; text-decoration-color: #000080\">│</span> Quiero investigar las mejores cafeterías de Madrid.                                                             <span style=\"color: #000080; text-decoration-color: #000080\">│</span>\n",
       "<span style=\"color: #000080; text-decoration-color: #000080\">╰─────────────────────────────────────────────────────────────────────────────────────────────────────────────────╯</span>\n",
       "</pre>\n"
      ],
      "text/plain": [
       "\u001b[34m╭─\u001b[0m\u001b[34m──────────────────────────────────────────────────\u001b[0m\u001b[34m 🧑 Human \u001b[0m\u001b[34m───────────────────────────────────────────────────\u001b[0m\u001b[34m─╮\u001b[0m\n",
       "\u001b[34m│\u001b[0m Quiero investigar las mejores cafeterías de Madrid.                                                             \u001b[34m│\u001b[0m\n",
       "\u001b[34m╰─────────────────────────────────────────────────────────────────────────────────────────────────────────────────╯\u001b[0m\n"
      ]
     },
     "metadata": {},
     "output_type": "display_data"
    },
    {
     "data": {
      "text/html": [
       "<pre style=\"white-space:pre;overflow-x:auto;line-height:normal;font-family:Menlo,'DejaVu Sans Mono',consolas,'Courier New',monospace\"><span style=\"color: #c0c0c0; text-decoration-color: #c0c0c0\">╭───────────────────────────────────────────────────── 📝 AI ─────────────────────────────────────────────────────╮</span>\n",
       "<span style=\"color: #c0c0c0; text-decoration-color: #c0c0c0\">│</span> ¿Podrías especificar qué criterios te interesan para considerar una cafetería como 'mejor'? Por ejemplo:        <span style=\"color: #c0c0c0; text-decoration-color: #c0c0c0\">│</span>\n",
       "<span style=\"color: #c0c0c0; text-decoration-color: #c0c0c0\">│</span> calidad del café, ambiente, ubicación, opciones veganas, precio, etc. ¿O prefieres una selección general?       <span style=\"color: #c0c0c0; text-decoration-color: #c0c0c0\">│</span>\n",
       "<span style=\"color: #c0c0c0; text-decoration-color: #c0c0c0\">╰─────────────────────────────────────────────────────────────────────────────────────────────────────────────────╯</span>\n",
       "</pre>\n"
      ],
      "text/plain": [
       "\u001b[37m╭─\u001b[0m\u001b[37m────────────────────────────────────────────────────\u001b[0m\u001b[37m 📝 AI \u001b[0m\u001b[37m────────────────────────────────────────────────────\u001b[0m\u001b[37m─╮\u001b[0m\n",
       "\u001b[37m│\u001b[0m ¿Podrías especificar qué criterios te interesan para considerar una cafetería como 'mejor'? Por ejemplo:        \u001b[37m│\u001b[0m\n",
       "\u001b[37m│\u001b[0m calidad del café, ambiente, ubicación, opciones veganas, precio, etc. ¿O prefieres una selección general?       \u001b[37m│\u001b[0m\n",
       "\u001b[37m╰─────────────────────────────────────────────────────────────────────────────────────────────────────────────────╯\u001b[0m\n"
      ]
     },
     "metadata": {},
     "output_type": "display_data"
    },
    {
     "data": {
      "text/html": [
       "<pre style=\"white-space:pre;overflow-x:auto;line-height:normal;font-family:Menlo,'DejaVu Sans Mono',consolas,'Courier New',monospace\"><span style=\"color: #000080; text-decoration-color: #000080\">╭─────────────────────────────────────────────────── 🧑 Human ────────────────────────────────────────────────────╮</span>\n",
       "<span style=\"color: #000080; text-decoration-color: #000080\">│</span> Examina la calidad del café para evaluar las mejores cafeterías de Madrid.                                      <span style=\"color: #000080; text-decoration-color: #000080\">│</span>\n",
       "<span style=\"color: #000080; text-decoration-color: #000080\">╰─────────────────────────────────────────────────────────────────────────────────────────────────────────────────╯</span>\n",
       "</pre>\n"
      ],
      "text/plain": [
       "\u001b[34m╭─\u001b[0m\u001b[34m──────────────────────────────────────────────────\u001b[0m\u001b[34m 🧑 Human \u001b[0m\u001b[34m───────────────────────────────────────────────────\u001b[0m\u001b[34m─╮\u001b[0m\n",
       "\u001b[34m│\u001b[0m Examina la calidad del café para evaluar las mejores cafeterías de Madrid.                                      \u001b[34m│\u001b[0m\n",
       "\u001b[34m╰─────────────────────────────────────────────────────────────────────────────────────────────────────────────────╯\u001b[0m\n"
      ]
     },
     "metadata": {},
     "output_type": "display_data"
    },
    {
     "data": {
      "text/html": [
       "<pre style=\"white-space:pre;overflow-x:auto;line-height:normal;font-family:Menlo,'DejaVu Sans Mono',consolas,'Courier New',monospace\"><span style=\"color: #c0c0c0; text-decoration-color: #c0c0c0\">╭───────────────────────────────────────────────────── 📝 AI ─────────────────────────────────────────────────────╮</span>\n",
       "<span style=\"color: #c0c0c0; text-decoration-color: #c0c0c0\">│</span> Gracias por la información. Entiendo que deseas un informe sobre las mejores cafeterías de Madrid, evaluadas    <span style=\"color: #c0c0c0; text-decoration-color: #c0c0c0\">│</span>\n",
       "<span style=\"color: #c0c0c0; text-decoration-color: #c0c0c0\">│</span> específicamente por la calidad del café que ofrecen. Comenzaré la investigación basándome en este criterio      <span style=\"color: #c0c0c0; text-decoration-color: #c0c0c0\">│</span>\n",
       "<span style=\"color: #c0c0c0; text-decoration-color: #c0c0c0\">│</span> principal. Ahora iniciaré el proceso de investigación.                                                          <span style=\"color: #c0c0c0; text-decoration-color: #c0c0c0\">│</span>\n",
       "<span style=\"color: #c0c0c0; text-decoration-color: #c0c0c0\">╰─────────────────────────────────────────────────────────────────────────────────────────────────────────────────╯</span>\n",
       "</pre>\n"
      ],
      "text/plain": [
       "\u001b[37m╭─\u001b[0m\u001b[37m────────────────────────────────────────────────────\u001b[0m\u001b[37m 📝 AI \u001b[0m\u001b[37m────────────────────────────────────────────────────\u001b[0m\u001b[37m─╮\u001b[0m\n",
       "\u001b[37m│\u001b[0m Gracias por la información. Entiendo que deseas un informe sobre las mejores cafeterías de Madrid, evaluadas    \u001b[37m│\u001b[0m\n",
       "\u001b[37m│\u001b[0m específicamente por la calidad del café que ofrecen. Comenzaré la investigación basándome en este criterio      \u001b[37m│\u001b[0m\n",
       "\u001b[37m│\u001b[0m principal. Ahora iniciaré el proceso de investigación.                                                          \u001b[37m│\u001b[0m\n",
       "\u001b[37m╰─────────────────────────────────────────────────────────────────────────────────────────────────────────────────╯\u001b[0m\n"
      ]
     },
     "metadata": {},
     "output_type": "display_data"
    }
   ],
   "source": [
    "result = scope_graph.invoke({\"messages\": [HumanMessage(content=\"Examina la calidad del café para evaluar las mejores cafeterías de Madrid.\")]}, config=thread)\n",
    "format_messages(result['messages'])"
   ]
  },
  {
   "cell_type": "code",
   "execution_count": 6,
   "id": "1c9e9c08",
   "metadata": {},
   "outputs": [
    {
     "data": {
      "text/plain": [
       "{'messages': [HumanMessage(content='Quiero investigar las mejores cafeterías de Madrid.', additional_kwargs={}, response_metadata={}, id='d7f1514d-829a-4c9d-b7b6-583a9f94c30b'),\n",
       "  AIMessage(content=\"¿Podrías especificar qué criterios te interesan para considerar una cafetería como 'mejor'? Por ejemplo: calidad del café, ambiente, ubicación, opciones veganas, precio, etc. ¿O prefieres una selección general?\", additional_kwargs={}, response_metadata={}, id='83142516-01e9-4803-85a5-2ddaa6bb569f'),\n",
       "  HumanMessage(content='Examina la calidad del café para evaluar las mejores cafeterías de Madrid.', additional_kwargs={}, response_metadata={}, id='567dbd2b-86d3-4ab7-87d9-7e215d14a333'),\n",
       "  AIMessage(content='Gracias por la información. Entiendo que deseas un informe sobre las mejores cafeterías de Madrid, evaluadas específicamente por la calidad del café que ofrecen. Comenzaré la investigación basándome en este criterio principal. Ahora iniciaré el proceso de investigación.', additional_kwargs={}, response_metadata={}, id='78f3e1bd-530b-44b2-bf9e-0d46a6cd3ea4')],\n",
       " 'research_brief': 'Quiero investigar cuáles son las mejores cafeterías de Madrid evaluadas específicamente por la calidad del café que ofrecen. Para ello, me interesa identificar cafeterías que destaquen por la excelencia en el sabor, aroma, frescura y preparación del café, considerando factores como el origen de los granos, el método de tostado y las técnicas de extracción empleadas. No tengo preferencias sobre el rango de precios, ubicación, ambiente, opciones alimenticias u otros servicios, por lo que estos aspectos pueden considerarse abiertos o secundarios. Solicito priorizar fuentes primarias y confiables, como los sitios web oficiales de las cafeterías, reseñas de expertos en café y plataformas reconocidas de opinión de usuarios en español.',\n",
       " 'supervisor_messages': [HumanMessage(content='Quiero investigar cuáles son las mejores cafeterías de Madrid evaluadas específicamente por la calidad del café que ofrecen. Para ello, me interesa identificar cafeterías que destaquen por la excelencia en el sabor, aroma, frescura y preparación del café, considerando factores como el origen de los granos, el método de tostado y las técnicas de extracción empleadas. No tengo preferencias sobre el rango de precios, ubicación, ambiente, opciones alimenticias u otros servicios, por lo que estos aspectos pueden considerarse abiertos o secundarios. Solicito priorizar fuentes primarias y confiables, como los sitios web oficiales de las cafeterías, reseñas de expertos en café y plataformas reconocidas de opinión de usuarios en español..', additional_kwargs={}, response_metadata={}, id='cb38d4f2-eadb-42c2-a899-ddb67ee3a550')],\n",
       " 'raw_notes': [],\n",
       " 'notes': []}"
      ]
     },
     "execution_count": 6,
     "metadata": {},
     "output_type": "execute_result"
    }
   ],
   "source": [
    "result"
   ]
  },
  {
   "cell_type": "code",
   "execution_count": 13,
   "id": "94722399",
   "metadata": {},
   "outputs": [
    {
     "data": {
      "text/html": [
       "<pre style=\"white-space:pre;overflow-x:auto;line-height:normal;font-family:Menlo,'DejaVu Sans Mono',consolas,'Courier New',monospace\"><span style=\"color: #af00ff; text-decoration-color: #af00ff\">╭─────────────────────────────────────────────── 🔍 Research Brief ───────────────────────────────────────────────╮</span>\n",
       "<span style=\"color: #af00ff; text-decoration-color: #af00ff\">│</span> Quiero investigar cuáles son las mejores cafeterías de Madrid evaluadas específicamente por la calidad del café <span style=\"color: #af00ff; text-decoration-color: #af00ff\">│</span>\n",
       "<span style=\"color: #af00ff; text-decoration-color: #af00ff\">│</span> que ofrecen. Para ello, me interesa identificar cafeterías que destaquen por la excelencia en el sabor, aroma,  <span style=\"color: #af00ff; text-decoration-color: #af00ff\">│</span>\n",
       "<span style=\"color: #af00ff; text-decoration-color: #af00ff\">│</span> frescura y preparación del café, considerando factores como el origen de los granos, el método de tostado y las <span style=\"color: #af00ff; text-decoration-color: #af00ff\">│</span>\n",
       "<span style=\"color: #af00ff; text-decoration-color: #af00ff\">│</span> técnicas de extracción empleadas. No tengo preferencias sobre el rango de precios, ubicación, ambiente,         <span style=\"color: #af00ff; text-decoration-color: #af00ff\">│</span>\n",
       "<span style=\"color: #af00ff; text-decoration-color: #af00ff\">│</span> opciones alimenticias u otros servicios, por lo que estos aspectos pueden considerarse abiertos o secundarios.  <span style=\"color: #af00ff; text-decoration-color: #af00ff\">│</span>\n",
       "<span style=\"color: #af00ff; text-decoration-color: #af00ff\">│</span> Solicito priorizar fuentes primarias y confiables, como los sitios web oficiales de las cafeterías, reseñas de  <span style=\"color: #af00ff; text-decoration-color: #af00ff\">│</span>\n",
       "<span style=\"color: #af00ff; text-decoration-color: #af00ff\">│</span> expertos en café y plataformas reconocidas de opinión de usuarios en español.                                   <span style=\"color: #af00ff; text-decoration-color: #af00ff\">│</span>\n",
       "<span style=\"color: #af00ff; text-decoration-color: #af00ff\">╰─────────────────────────────────────────────────────────────────────────────────────────────────────────────────╯</span>\n",
       "</pre>\n"
      ],
      "text/plain": [
       "\u001b[38;5;129m╭─\u001b[0m\u001b[38;5;129m──────────────────────────────────────────────\u001b[0m\u001b[38;5;129m 🔍 Research Brief \u001b[0m\u001b[38;5;129m──────────────────────────────────────────────\u001b[0m\u001b[38;5;129m─╮\u001b[0m\n",
       "\u001b[38;5;129m│\u001b[0m Quiero investigar cuáles son las mejores cafeterías de Madrid evaluadas específicamente por la calidad del café \u001b[38;5;129m│\u001b[0m\n",
       "\u001b[38;5;129m│\u001b[0m que ofrecen. Para ello, me interesa identificar cafeterías que destaquen por la excelencia en el sabor, aroma,  \u001b[38;5;129m│\u001b[0m\n",
       "\u001b[38;5;129m│\u001b[0m frescura y preparación del café, considerando factores como el origen de los granos, el método de tostado y las \u001b[38;5;129m│\u001b[0m\n",
       "\u001b[38;5;129m│\u001b[0m técnicas de extracción empleadas. No tengo preferencias sobre el rango de precios, ubicación, ambiente,         \u001b[38;5;129m│\u001b[0m\n",
       "\u001b[38;5;129m│\u001b[0m opciones alimenticias u otros servicios, por lo que estos aspectos pueden considerarse abiertos o secundarios.  \u001b[38;5;129m│\u001b[0m\n",
       "\u001b[38;5;129m│\u001b[0m Solicito priorizar fuentes primarias y confiables, como los sitios web oficiales de las cafeterías, reseñas de  \u001b[38;5;129m│\u001b[0m\n",
       "\u001b[38;5;129m│\u001b[0m expertos en café y plataformas reconocidas de opinión de usuarios en español.                                   \u001b[38;5;129m│\u001b[0m\n",
       "\u001b[38;5;129m╰─────────────────────────────────────────────────────────────────────────────────────────────────────────────────╯\u001b[0m\n"
      ]
     },
     "metadata": {},
     "output_type": "display_data"
    }
   ],
   "source": [
    "format_messages(result['research_brief'], title=\"🔍 Research Brief\", border_style=\"purple\")"
   ]
  }
 ],
 "metadata": {
  "kernelspec": {
   "display_name": ".venv",
   "language": "python",
   "name": "python3"
  },
  "language_info": {
   "codemirror_mode": {
    "name": "ipython",
    "version": 3
   },
   "file_extension": ".py",
   "mimetype": "text/x-python",
   "name": "python",
   "nbconvert_exporter": "python",
   "pygments_lexer": "ipython3",
   "version": "3.12.8"
  }
 },
 "nbformat": 4,
 "nbformat_minor": 5
}
